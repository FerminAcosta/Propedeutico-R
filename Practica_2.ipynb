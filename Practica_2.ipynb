{
 "cells": [
  {
   "cell_type": "markdown",
   "metadata": {},
   "source": [
    "\n",
    "# Teoría de conteo\n",
    "\n",
    "## Regla de Multiplicación\n",
    "\n",
    "Si una operación se puede calcular en $n_1$  maneras, y si para cada una de de estas una segunda operación se puede calcular de $n_2$ diferentes formas, entonces las dos operaciones se pueden calcular juntas de $(n_1)(n_2)$  maneras.\n",
    "\n",
    "## Regla de la Adición\n",
    "\n",
    "Si una operación se puede calcular en $n_1$  maneras, y si para cada una de de éstas una segunda operación se puede calcular de $n_2$ diferentes formas, entonces si no es posible tener ambas operaciones al mismo tiempo, las dos operaciones se pueden efectuar en  $n_1+n_2$ maneras.\n",
    "\n",
    "\n",
    "**Permutación**: El orden de los elementos es importante: abc, acb, bca, …, son diferentes arreglos o permutaciones.\n",
    "\n",
    "**Combinación**: Los elementos se pueden encontrar en cualquier orden. El orden no es importante. Ejemplo: $abc, acb, bca,\\ldots,$ son arreglos que representan la misma combinación.\n",
    "\n",
    "Permutaciones de $n$ elementos diferentes: Factorial de $n!=n\\cdot(n-1)!$, $0!=1$\n",
    "\n",
    "Permutaciones de $n$ elementos diferentes tomando $r$ a un tiempo: \n",
    "\n",
    "$$P(r,n)=nPr=P^n_r=\\frac{n!}{(n-r)!}$$\n",
    "\n",
    "Permutaciones de $n$ elementos con elementos repetidos:\n",
    "\n",
    "$$ \\frac{n!}{n_1! \\, n_2! \\ldots n_r!} $$\n",
    "    \n",
    "con $n_1 + n_2 + \\ldots + n_r = n$\n",
    "\n",
    "Permutaciones de $n$ elementos con sustitución en un arreglo de longitud $r$: $n^r$  \n",
    "\n",
    "Permutaciones circulares de $n$ elementos:   $(n-1)!$\n",
    "\n",
    "Combinaciones de $r$ elementos tomados de $n$ elementos diferentes:\n",
    "\n",
    "$$ C(r,n)=nCr= C^n_r=\\binom{n}{r}=\\frac{n!}{r!(n-r)!}$$\n",
    "\n",
    "# Teoría de Conjuntos\n",
    "\n",
    "## Algebra de conjuntos\n",
    "\n",
    "Un conjunto es una colección de objetos. Podemos escribir conjuntos de manera explícita o implícita.\n",
    "\n",
    "Ejemplos\n",
    "\n",
    "$A=\\{0,1,2,3,4,5,6,7,8,9\\}$ **explícito**\n",
    "\n",
    "$A=\\{ x \\hbox { en } R │ x \\hbox{ es número dígito}\\}$ **implícito**\n",
    "\n",
    "$B=\\{2,4,6,8\\}$   **explícito**\n",
    "\n",
    "$B=\\{ x \\hbox { en } R │ x \\hbox{ es un número dígito par}\\}$  **implícito**\n",
    "\n",
    "$C=\\{1,3,5,7,9\\}$  **explícito**\n",
    "\n",
    "$B=\\{ x \\hbox { en } R │ x \\hbox{ es un número dígito impar} \\}$ **implícito**\n",
    "\n",
    "Es importante notar que *no se permiten repeticiones*\n",
    "\n",
    "$B=\\{2,4,6,6,6,8,8,8,8\\}$ =  **¡¡ representación errónea !!**  \n",
    "\n",
    "## Diagrama de Venn\n",
    " \n",
    "Un diagrama de Venn es una representación gráfica de un grupo finito de conjuntos. El universo $U$ es el conjunto de todos los elementos a considerar. Todos los posibles conjuntos  $A$ están dentro de  $U$.\n",
    "\n",
    "\n",
    "<img src=\"Venn.png\" width=\"50%\">.\n",
    "\n",
    "### Ejercicio. \n",
    "\n",
    "Suponga que  $U=\\{x \\hbox { en } R│x \\hbox{ es un número dígito}\\}$. Represente en un diagrama de Venn los siguientes conjuntos.\n",
    "\n",
    "\n",
    "1. $A=\\{ 1,3,5,7 \\}$, $B=\\{2,3,4,5\\}$. \n",
    "2. $A=\\{1,3,5,7\\}$, $C=\\{3,5\\}$.\n",
    "3. $A=\\{1,3,5,7\\}$, $D=\\{2,4,6\\}$.\n",
    "\n",
    "\n",
    "### Operaciones y conjuntos especiales\n",
    "\n",
    "* El **conjunto vacío** es el conjunto sin elementos. $\\phi= \\{ \\}$\n",
    "* El **complemento de $A$** es  $A^c = A' =\\bar{A}= \\{x | x \\hbox{ no está en A}\\}$\n",
    "* La **unión de dos conjuntos  $A$ y $B$**. \n",
    "  * $A \\cup B$ es el conjunto que contiene todos los elementos que pertenecen a  $A$ ó $B$ o ambos.   \n",
    "* La **intersección de dos conjuntos $A$ y  $B$**. \n",
    "  * $A \\cap B$ es el conjunto de todos los elementos que pertenecen a $A$ y $B$.  \n",
    "* Dos conjuntos son **mutuamente excluyentes** o **disjuntos** si $A\\cap B=\\phi$.\n",
    "\n",
    "\n",
    "Suponga que  $U$  es el universo.  $A$, $B$ son conjuntos de  $U$.\n",
    "* $A\\cup A'=U$  \n",
    "* $A\\cap A'=\\phi$ \n",
    "* $U'=\\phi$  \n",
    "* $\\phi'=U$\n",
    "* $(A')'=A$\n",
    "* $(A∪B)'=A'∩B'$  Ley  de De Morgan.\n",
    "* $(A∩B)'=A'∪B'$ Ley de De Morgan.\n",
    "\n",
    "<img src=\"operaciones.jpg\" width=\"40%\">.\n",
    "\n",
    "# Diferentes tipos de Probabilidad\n",
    "\n",
    "<img src=\"dados.jpg\" width=\"40%\">.\n",
    "\n",
    "Un **experimento aleatorio** o estadístico es una situación que implica la posibilidad de varios posibles  resultados.\n",
    "\n",
    "Un  resultado de un experimento aleatorio se llama **elemento** o **punto  muestral**.\n",
    "\n",
    "El **espacio muestral** de un experimento aleatorio es el conjunto de todos los resultados posibles.\n",
    "\n",
    "Un **evento** es el conjunto de uno o más de los resultados de un experimento aleatorio.\n",
    "\n",
    "\n",
    "## Probabilidad frecuentista\n",
    "\n",
    "Cuando un experimento aleatorio se puede repetir $N$ veces y se encuentra que se tuvieron $n$ casos favorables para la ocurrencia del evento $A$, se \"entiende\" que la probabilidad es el límite cuando $N$ crece indefinidamente de la frecuencia relativa de ocurrencia del evento, es decir\n",
    "\n",
    "$$P(A)=\\lim_{N \\to \\infty}\\frac{n}{N}$$\n",
    "\n",
    "## Probabilidad clásica (Laplace)\n",
    "\n",
    "Cuando el espacio muestral es equiprobable y finito podemos calcular la probabilidad del evento $A$ como la suma de todos los pesos de todos los puntos de muestra en $A$. Si el espacio muestral tiene $N$ elementos y el evento $A$ tiene $n$ elementos\n",
    "\n",
    "$$P(A)=\\frac{\\mbox{casos favorables para }A}{\\mbox{casos totales}}=\\frac{n}{N}$$\n",
    "\n",
    "## Probabilidad axiomática\n",
    "\n",
    "Considere un esxperimento aletorio y $S$ un espacio muestral asociado. Con cada evento $A$ asociamos un número real, designado por $P(A)$ y llamado la *probabilidad de A* que satisfaga las siguientes propiedades \n",
    "\n",
    "1. $0<=P(A)<=1$\n",
    "2. $P(S)=1$\n",
    "3. $P(A \\cup B)=P(A)+P(B)$ si $A \\cap B = \\phi$\n",
    "4. Si $A_1,A_2,\\ldots,A_n,\\ldots$ son eventos que se excluyen mutuamente por pares, entonces\n",
    "\n",
    "$$P(\\cup_{n=1}^{\\infty})=P(A_1)+P(A_2)+ P(A_3)+\\ldots  $$\n",
    "\n",
    "## Probabilidad subjetiva\n",
    "\n",
    "En este caso la probablidad de un evento se asocia sin cálculo alguno y depende del juicio personal o experiencia. Por ejemplo, la probabildad asociada a un juicio experto. \n"
   ]
  },
  {
   "cell_type": "markdown",
   "metadata": {},
   "source": [
    "# Ejemplo de probabilidad frecuencientista: El lanzamiento de un dado"
   ]
  },
  {
   "cell_type": "code",
   "execution_count": 76,
   "metadata": {},
   "outputs": [
    {
     "data": {
      "text/html": [
       "<ol class=list-inline>\n",
       "\t<li>1</li>\n",
       "\t<li>2</li>\n",
       "\t<li>3</li>\n",
       "\t<li>3</li>\n",
       "\t<li>4</li>\n",
       "\t<li>6</li>\n",
       "\t<li>4</li>\n",
       "\t<li>1</li>\n",
       "</ol>\n"
      ],
      "text/latex": [
       "\\begin{enumerate*}\n",
       "\\item 1\n",
       "\\item 2\n",
       "\\item 3\n",
       "\\item 3\n",
       "\\item 4\n",
       "\\item 6\n",
       "\\item 4\n",
       "\\item 1\n",
       "\\end{enumerate*}\n"
      ],
      "text/markdown": [
       "1. 1\n",
       "2. 2\n",
       "3. 3\n",
       "4. 3\n",
       "5. 4\n",
       "6. 6\n",
       "7. 4\n",
       "8. 1\n",
       "\n",
       "\n"
      ],
      "text/plain": [
       "[1] 1 2 3 3 4 6 4 1"
      ]
     },
     "metadata": {},
     "output_type": "display_data"
    }
   ],
   "source": [
    "dado <- sample(1:6, 8, replace=TRUE);\n",
    "dado"
   ]
  },
  {
   "cell_type": "code",
   "execution_count": 77,
   "metadata": {},
   "outputs": [
    {
     "data": {
      "text/html": [
       "<ol class=list-inline>\n",
       "\t<li>TRUE</li>\n",
       "\t<li>FALSE</li>\n",
       "\t<li>FALSE</li>\n",
       "\t<li>FALSE</li>\n",
       "\t<li>FALSE</li>\n",
       "\t<li>FALSE</li>\n",
       "\t<li>FALSE</li>\n",
       "\t<li>TRUE</li>\n",
       "</ol>\n"
      ],
      "text/latex": [
       "\\begin{enumerate*}\n",
       "\\item TRUE\n",
       "\\item FALSE\n",
       "\\item FALSE\n",
       "\\item FALSE\n",
       "\\item FALSE\n",
       "\\item FALSE\n",
       "\\item FALSE\n",
       "\\item TRUE\n",
       "\\end{enumerate*}\n"
      ],
      "text/markdown": [
       "1. TRUE\n",
       "2. FALSE\n",
       "3. FALSE\n",
       "4. FALSE\n",
       "5. FALSE\n",
       "6. FALSE\n",
       "7. FALSE\n",
       "8. TRUE\n",
       "\n",
       "\n"
      ],
      "text/plain": [
       "[1]  TRUE FALSE FALSE FALSE FALSE FALSE FALSE  TRUE"
      ]
     },
     "metadata": {},
     "output_type": "display_data"
    }
   ],
   "source": [
    "dado==1"
   ]
  },
  {
   "cell_type": "code",
   "execution_count": 81,
   "metadata": {},
   "outputs": [
    {
     "data": {
      "text/html": [
       "<ol class=list-inline>\n",
       "\t<li>2</li>\n",
       "\t<li>1</li>\n",
       "\t<li>2</li>\n",
       "\t<li>2</li>\n",
       "\t<li>0</li>\n",
       "\t<li>1</li>\n",
       "</ol>\n"
      ],
      "text/latex": [
       "\\begin{enumerate*}\n",
       "\\item 2\n",
       "\\item 1\n",
       "\\item 2\n",
       "\\item 2\n",
       "\\item 0\n",
       "\\item 1\n",
       "\\end{enumerate*}\n"
      ],
      "text/markdown": [
       "1. 2\n",
       "2. 1\n",
       "3. 2\n",
       "4. 2\n",
       "5. 0\n",
       "6. 1\n",
       "\n",
       "\n"
      ],
      "text/plain": [
       "[1] 2 1 2 2 0 1"
      ]
     },
     "metadata": {},
     "output_type": "display_data"
    }
   ],
   "source": [
    "dado1<-sum(dado==1);dado2<-sum(dado==2);dado3<-sum(dado==3);\n",
    "dado4<-sum(dado==4);dado5<-sum(dado==5);dado6<-sum(dado==6);\n",
    "frec<-c(dado1,dado2,dado3,dado4,dado5,dado6);\n",
    "frec"
   ]
  },
  {
   "cell_type": "code",
   "execution_count": 84,
   "metadata": {},
   "outputs": [
    {
     "data": {
      "text/html": [
       "<ol class=list-inline>\n",
       "\t<li>0.25</li>\n",
       "\t<li>0.125</li>\n",
       "\t<li>0.25</li>\n",
       "\t<li>0.25</li>\n",
       "\t<li>0</li>\n",
       "\t<li>0.125</li>\n",
       "</ol>\n"
      ],
      "text/latex": [
       "\\begin{enumerate*}\n",
       "\\item 0.25\n",
       "\\item 0.125\n",
       "\\item 0.25\n",
       "\\item 0.25\n",
       "\\item 0\n",
       "\\item 0.125\n",
       "\\end{enumerate*}\n"
      ],
      "text/markdown": [
       "1. 0.25\n",
       "2. 0.125\n",
       "3. 0.25\n",
       "4. 0.25\n",
       "5. 0\n",
       "6. 0.125\n",
       "\n",
       "\n"
      ],
      "text/plain": [
       "[1] 0.250 0.125 0.250 0.250 0.000 0.125"
      ]
     },
     "metadata": {},
     "output_type": "display_data"
    }
   ],
   "source": [
    "frecrel<-frec/8;\n",
    "frecrel"
   ]
  },
  {
   "cell_type": "code",
   "execution_count": 46,
   "metadata": {},
   "outputs": [
    {
     "data": {
      "text/html": [
       "<ol class=list-inline>\n",
       "\t<li>1</li>\n",
       "\t<li>2</li>\n",
       "\t<li>3</li>\n",
       "\t<li>4</li>\n",
       "\t<li>5</li>\n",
       "\t<li>6</li>\n",
       "</ol>\n"
      ],
      "text/latex": [
       "\\begin{enumerate*}\n",
       "\\item 1\n",
       "\\item 2\n",
       "\\item 3\n",
       "\\item 4\n",
       "\\item 5\n",
       "\\item 6\n",
       "\\end{enumerate*}\n"
      ],
      "text/markdown": [
       "1. 1\n",
       "2. 2\n",
       "3. 3\n",
       "4. 4\n",
       "5. 5\n",
       "6. 6\n",
       "\n",
       "\n"
      ],
      "text/plain": [
       "[1] 1 2 3 4 5 6"
      ]
     },
     "metadata": {},
     "output_type": "display_data"
    }
   ],
   "source": [
    "1:6"
   ]
  },
  {
   "cell_type": "code",
   "execution_count": 83,
   "metadata": {},
   "outputs": [
    {
     "data": {
      "text/html": [
       "<table>\n",
       "<thead><tr><th scope=col>X1.6</th><th scope=col>frecrel</th></tr></thead>\n",
       "<tbody>\n",
       "\t<tr><td>1   </td><td>0.02</td></tr>\n",
       "\t<tr><td>2   </td><td>0.01</td></tr>\n",
       "\t<tr><td>3   </td><td>0.02</td></tr>\n",
       "\t<tr><td>4   </td><td>0.02</td></tr>\n",
       "\t<tr><td>5   </td><td>0.00</td></tr>\n",
       "\t<tr><td>6   </td><td>0.01</td></tr>\n",
       "</tbody>\n",
       "</table>\n"
      ],
      "text/latex": [
       "\\begin{tabular}{r|ll}\n",
       " X1.6 & frecrel\\\\\n",
       "\\hline\n",
       "\t 1    & 0.02\\\\\n",
       "\t 2    & 0.01\\\\\n",
       "\t 3    & 0.02\\\\\n",
       "\t 4    & 0.02\\\\\n",
       "\t 5    & 0.00\\\\\n",
       "\t 6    & 0.01\\\\\n",
       "\\end{tabular}\n"
      ],
      "text/markdown": [
       "\n",
       "X1.6 | frecrel | \n",
       "|---|---|---|---|---|---|\n",
       "| 1    | 0.02 | \n",
       "| 2    | 0.01 | \n",
       "| 3    | 0.02 | \n",
       "| 4    | 0.02 | \n",
       "| 5    | 0.00 | \n",
       "| 6    | 0.01 | \n",
       "\n",
       "\n"
      ],
      "text/plain": [
       "  X1.6 frecrel\n",
       "1 1    0.02   \n",
       "2 2    0.01   \n",
       "3 3    0.02   \n",
       "4 4    0.02   \n",
       "5 5    0.00   \n",
       "6 6    0.01   "
      ]
     },
     "metadata": {},
     "output_type": "display_data"
    }
   ],
   "source": [
    "data.frame(1:6,frecrel)"
   ]
  },
  {
   "cell_type": "code",
   "execution_count": 85,
   "metadata": {},
   "outputs": [
    {
     "data": {
      "image/png": "[encoded data removed]",
      "text/plain": [
       "Plot with title “Frecuencia relativa”"
      ]
     },
     "metadata": {},
     "output_type": "display_data"
    }
   ],
   "source": [
    "barplot(frecrel, main=\"Frecuencia relativa\", \n",
    "  \txlab=\"Número de dado\", names.arg=c(\"1\", \"2\", \"3\",\"4\", \"5\", \"5\"))"
   ]
  },
  {
   "cell_type": "code",
   "execution_count": 88,
   "metadata": {},
   "outputs": [
    {
     "data": {
      "text/html": [
       "<table>\n",
       "<thead><tr><th scope=col>Número</th><th scope=col>Frecuencia Relativa</th></tr></thead>\n",
       "<tbody>\n",
       "\t<tr><td>1  </td><td>0.3</td></tr>\n",
       "\t<tr><td>2  </td><td>0.2</td></tr>\n",
       "\t<tr><td>3  </td><td>0.1</td></tr>\n",
       "\t<tr><td>4  </td><td>0.1</td></tr>\n",
       "\t<tr><td>5  </td><td>0.2</td></tr>\n",
       "\t<tr><td>6  </td><td>0.1</td></tr>\n",
       "</tbody>\n",
       "</table>\n"
      ],
      "text/latex": [
       "\\begin{tabular}{r|ll}\n",
       " Número & Frecuencia Relativa\\\\\n",
       "\\hline\n",
       "\t 1   & 0.3\\\\\n",
       "\t 2   & 0.2\\\\\n",
       "\t 3   & 0.1\\\\\n",
       "\t 4   & 0.1\\\\\n",
       "\t 5   & 0.2\\\\\n",
       "\t 6   & 0.1\\\\\n",
       "\\end{tabular}\n"
      ],
      "text/markdown": [
       "\n",
       "Número | Frecuencia Relativa | \n",
       "|---|---|---|---|---|---|\n",
       "| 1   | 0.3 | \n",
       "| 2   | 0.2 | \n",
       "| 3   | 0.1 | \n",
       "| 4   | 0.1 | \n",
       "| 5   | 0.2 | \n",
       "| 6   | 0.1 | \n",
       "\n",
       "\n"
      ],
      "text/plain": [
       "  Número Frecuencia Relativa\n",
       "1 1      0.3                \n",
       "2 2      0.2                \n",
       "3 3      0.1                \n",
       "4 4      0.1                \n",
       "5 5      0.2                \n",
       "6 6      0.1                "
      ]
     },
     "metadata": {},
     "output_type": "display_data"
    },
    {
     "data": {
      "image/png": "[encoded data removed]",
      "text/plain": [
       "Plot with title “Frecuencia relativa de dado ”"
      ]
     },
     "metadata": {},
     "output_type": "display_data"
    }
   ],
   "source": [
    "N=10;\n",
    "dado <- sample(1:6, N, replace=TRUE);\n",
    "dado1<-sum(dado==1);dado2<-sum(dado==2);dado3<-sum(dado==3);\n",
    "dado4<-sum(dado==4);dado5<-sum(dado==5);dado6<-sum(dado==6);\n",
    "frec<-c(dado1,dado2,dado3,dado4,dado5,dado6);\n",
    "frecrel<-frec/N;\n",
    "valores<-data.frame(1:6,frecrel)\n",
    "names(valores)<-c(\"Número\", \"Frecuencia Relativa\")\n",
    "valores\n",
    "barplot(frecrel, main=\"Frecuencia relativa de dado \", \n",
    "  \txlab=\"Número de dado\", names.arg=c(\"1\", \"2\", \"3\",\"4\", \"5\", \"5\"))"
   ]
  },
  {
   "cell_type": "code",
   "execution_count": null,
   "metadata": {},
   "outputs": [],
   "source": []
  }
 ],
 "metadata": {
  "kernelspec": {
   "display_name": "R",
   "language": "R",
   "name": "ir"
  },
  "language_info": {
   "codemirror_mode": "r",
   "file_extension": ".r",
   "mimetype": "text/x-r-source",
   "name": "R",
   "pygments_lexer": "r",
   "version": "3.5.1"
  }
 },
 "nbformat": 4,
 "nbformat_minor": 2
}
