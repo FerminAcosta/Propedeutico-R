{
 "cells": [
  {
   "cell_type": "markdown",
   "metadata": {},
   "source": [
    "# Práctica 1\n",
    "\n",
    "En esta práctica vamos a revisar Estadística descriptiva básica\n",
    "\n",
    "## Medidas de Tendencia Central\n",
    "\n",
    "En esta práctica vamos a revisar Estadística descriptiva básica\n",
    "\n",
    "## Medidas de Tendencia Central\n",
    "\n",
    "$\\bar{x}=\\frac{\\sum^{n}_{i=1}x_i}{n}=\\frac{\\sum^{n}_{i=1}f_i x_i}{n}$ como media aritmética muestral.\n",
    "\n",
    "\n",
    "$\\mu=\\frac{\\sum^{n}_{i=1}x_i}{n}=\\frac{\\sum^{n}_{i=1}f_i x_i}{n}$ como media aritmética poblacional.\n",
    "\n",
    "$\\sigma^2=\\frac{\\sum^{n}_{i=1}(x_i-\\mu)^2}{n}=\\frac{\\sum^{n}_{i=1}f_i*(x_i-\\mu)^2}{n}$\n",
    "\n",
    "$s^2=\\frac{\\sum^{n}_{i=1}(x_i-\\mu)^2}{n-1}=\\frac{\\sum^{n}_{i=1}f_i*(x_i-\\mu)^2}{n-1}$"
   ]
  },
  {
   "cell_type": "markdown",
   "metadata": {
    "collapsed": true
   },
   "source": [
    "a<-2\n",
    "a"
   ]
  },
  {
   "cell_type": "code",
   "execution_count": null,
   "metadata": {
    "collapsed": true
   },
   "outputs": [],
   "source": []
  }
 ],
 "metadata": {
  "kernelspec": {
   "display_name": "R",
   "language": "R",
   "name": "ir"
  },
  "language_info": {
   "codemirror_mode": "r",
   "file_extension": ".r",
   "mimetype": "text/x-r-source",
   "name": "R",
   "pygments_lexer": "r",
   "version": "3.5.1"
  }
 },
 "nbformat": 4,
 "nbformat_minor": 2
}
