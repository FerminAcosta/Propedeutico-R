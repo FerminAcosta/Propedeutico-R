{
 "cells": [
  {
   "cell_type": "markdown",
   "metadata": {},
   "source": [
    "# Práctica 1\n",
    "\n",
    "En esta práctica vamos a revisar Estadística descriptiva básica\n",
    "\n",
    "## Medidas de Tendencia Central\n",
    "\n",
    "En esta práctica vamos a revisar Estadística descriptiva básica\n",
    "\n",
    "## Medidas de Tendencia Central\n",
    "\n",
    "$$\\bar{x}=\\sum^{n}_{i=1}x_i=\\sum^{n}_{i=1}f_i x_i$$ como media aritmética muestral.\n",
    "\n",
    "\n",
    "$$\\mu=\\sum^{n}_{i=1}x_i$$ como media aritmética poblacional.$$= como media aritmética muestral.\n",
    "\n",
    "\n",
    "$$\\mu=\\sum^{n}_{i=1}x_i$$ como media aritmética poblacional."
   ]
  },
  {
   "cell_type": "code",
   "execution_count": null,
   "metadata": {
    "collapsed": true
   },
   "outputs": [],
   "source": [
    "a<-2\n",
    "a"
   ]
  },
  {
   "cell_type": "code",
   "execution_count": null,
   "metadata": {
    "collapsed": true
   },
   "outputs": [],
   "source": []
  }
 ],
 "metadata": {
  "kernelspec": {
   "display_name": "R",
   "language": "R",
   "name": "ir"
  },
  "language_info": {
   "codemirror_mode": "r",
   "file_extension": ".r",
   "mimetype": "text/x-r-source",
   "name": "R",
   "pygments_lexer": "r",
   "version": "3.5.1"
  }
 },
 "nbformat": 4,
 "nbformat_minor": 2
}
