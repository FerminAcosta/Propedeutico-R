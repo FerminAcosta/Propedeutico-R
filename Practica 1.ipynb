{
 "cells": [
  {
   "cell_type": "markdown",
   "metadata": {
    "collapsed": true
   },
   "source": [
    "# Práctica 1. Métodos Descriptivos\n",
    "\n",
    "En esta práctica vamos a revisar Estadística descriptiva básica.\n",
    "\n",
    "## Poblaciones y muestras\n",
    "\n",
    "**Población** es el conjunto formado por la totalidad de observaciones que son de interés. \n",
    "\n",
    "Puede haber poblaciones finitas o infinitas. Una muestra es un subconjunto de una población. Los datos los entendemos como el registro de mediciones hechas sobre características de la población o muestra de interés.\n",
    "\n",
    "Un **parámetro** se define como cualquier resumen de los elementos de una población, mientras que el resumen de los elementos de una muestra se conoce como estadística.\n",
    "\n",
    "La **estadística descriptiva** está para resumir la información contenida en un conjunto de datos. \n",
    "\n",
    "La **estadística inferencial** está conformada por técnicas para proveer información acerca de los parámetros basados en observaciones hechas sobre los valores de las estadísticas.\n",
    "\n",
    "\n",
    "\n",
    "## Diferentes tipos de datos y escalas de medición.\n",
    "\n",
    "### La escala nominal.\n",
    "\n",
    "Esta escala clasifica, pero no da información cuantitativa. No hay orden. Los datos pueden ser etiquetas, nombres o categorías. Pueden ser numéricos o no numéricos.  Por ejemplo, variables que se pueden medir con esta escala son: \"Masculino\", \"Femenino\", \"Católico\", \"Protestante\",\"Tamaulipas\", \"Guerrero\", etc.\n",
    "\n",
    "### La escala ordinal \n",
    "\n",
    "Clasifica con orden. Ejemplos de estas variables puede ser una pregunta con escala tipo Likert con respuestas como: \"Muy en desacuerdo\", \"Desacuerdo\", \"De acuerdo\", \"Muy de acuerdo\". \n",
    "\n",
    "### La escala de intervalo\n",
    "\n",
    "Clasifica con orden y una escala, pero no hay un punto de referencia cero descrito claramente. Por ejemplo, la variable temperatura está descrita por escalas Farenheit o celcius, pero grado cero no implica que no haya ningún nivel de temperatura.\n",
    "\n",
    "### La escala de razón\n",
    " \n",
    "Clasifica con orden y escala con un punto de referencia. Ejemplos, el peso, altura, distancia, etc.\n",
    "\n",
    "Otro tipo de clasificación de datos los clasifica como **continuos** o **discretos**. Una variable es continua si tiene tantos números como en un segmento de la recta real, por ejemplo, el tiempo, la temperatura o el peso de una persona. Una variable discreta es aquella que no es continua. Una variable que mida un conjunto finito de elementos o infinito tanto como los números naturales 1,2,3,4,... . Las variable discretas que toman dos posibles valores se llaman variables **dicotómicas** como por ejemplo, hombre o mujer, muerto o vivo, positivo o negativo."
   ]
  },
  {
   "cell_type": "markdown",
   "metadata": {},
   "source": [
    "# Medidas de Tendencia Central para datos no agrupados\n",
    "\n",
    "video para datos no agrupados: https://youtu.be/fOuRqk1nzgY\n",
    "\n",
    "\n",
    "### media aritmética muestral.\n",
    "\n",
    "$$\\bar{x}=\\frac{\\sum^{n}_{i=1}x_i}{n}=\\frac{\\sum^{n}_{i=1}f_i x_i}{n}$$\n",
    "\n",
    "con $n$ el número total de elementos en la muestra y $f_i$ la frecuencia del dato $x_i$\n",
    "\n",
    "### media aritmética poblacional.\n",
    "\n",
    "$$\\mu=\\frac{\\sum^{N}_{i=1}x_i}{N}=\\frac{\\sum^{N}_{i=1}f_i x_i}{N}$$\n",
    "\n",
    "con $N$ el número total de elementos en la población y $f_i$ la frecuencia del dato $x_i$\n",
    "\n",
    "\n",
    "### Promedio ponderado o con pesos:\n",
    "\n",
    "$$\\mu=\\frac{\\sum^{N}_{i=1}w_i x_i}{\\sum^{N}_{i=1}w_i}$$\n",
    "\n",
    "### Mediana\n",
    "\n",
    "La mediana es el número que separa en dos partes iguales a la muestra o población cuando el conjunto de datos ha sido ordenado de menor a mayor orden de magnitud.\n",
    "\n",
    "Posición de la mediana para datos no agrupados (discretos) $ = (𝑁 + 1)/2$. Donde $𝑁$ es el número de datos. \n",
    "\n",
    "Si $𝑁$ es impar la posición de la mediana es $(𝑁 + 1)/2$. Si $𝑁$ es par la mediana es el promedio de los valores en la posición $N/2$ y la posición $(N)/2+1$.\n",
    "\n",
    "## Moda\n",
    "\n",
    "Es el dato con mayor frecuencia de ocurrencia en el grupo de datos. Si un grupo de datos tiene dos modas se llama bimodal, aunque algunos autores solo hablan de moda cuando únicamente un dato es el tiene máxima frecuencia.\n",
    "\n",
    "\n",
    "# Medidas de Dispersión para datos no agrupados\n",
    "\n",
    "La dispersión se refiere a que tan alejados están los datos alrededor de la tendencia central.\n",
    "\n",
    "###  El rango\n",
    "El rango es la diferencia entre el mayor menos el menor valor.\n",
    "\n",
    "###  Desviación individual:\n",
    "\n",
    "$$x_i − \\mu$$\n",
    "\n",
    "Propiedad importante de la media:\n",
    "$$ \\sum_{i}x_i-\\mu=0 \\mbox{    usando frecuencias    } \\sum_{i}f_i(x_i-\\mu)=0$$\n",
    "\n",
    "### Desviación Media Absoluta (MAD):\n",
    "\n",
    "$$ \\sum_{i}|x_i-\\mu| \\mbox{    usando frecuencias    } \\sum_{i}f_i|x_i-\\mu|$$\n",
    "La media aritmética se puede interpretar como el valor que se encuentra en medio de los demás valores, como centro entre sobrantes y faltantes.\n",
    "\n",
    "##  Diferentes tipos de Varianza\n",
    "\n",
    "Es el promedio cuadrático de las desviaciones individuales. Distinguimos entre poblacional y muestral.\n",
    "\n",
    "### Varianza poblacional.\n",
    "\n",
    "$$\\sigma^2=\\frac{\\sum^{n}_{i=1}(x_i-\\mu)^2}{N}=\\frac{\\sum^{n}_{i=1}f_i*(x_i-\\mu)^2}{N}$$\n",
    "\n",
    "###  Varianza muestral.\n",
    "\n",
    "$$s^2=\\frac{\\sum^{n}_{i=1}(x_i-\\mu)^2}{n-1}=\\frac{\\sum^{n}_{i=1}f_i*(x_i-\\mu)^2}{n-1}$$\n",
    "\n",
    "### Desviación Estándar\n",
    "La desviación estándar la raiz cuadrada de la varianza y mide cuánto se dispersan los datos.\n",
    "\n",
    "Desviación Estándar poblacional $= \\sigma = \\sqrt{\\sigma^2}$\n",
    "\n",
    "Desviación Estándar muestral $= 𝑠 = \\sqrt{s^2}$\n",
    "\n",
    "Para representar gráficamente datos no agrupados podemos presentar diagrama de barras, gráficas de pie, diagramas de caja y bigotes, etc. La visualización de datos es importante y se trata de presentar la información a la audiencia de forma simple y digerible. Se busca tener el mayor impacto visual para la interpretación de la información. Actualemente se pueden usar infografías o incluso hasta pequeños videos.\n",
    "\n",
    "Por ejemplo:\n",
    "\n",
    "¿Qué es una infografía?\n",
    "https://youtu.be/ERsVprw030k\n",
    "\n",
    "¿Por qué es importante la visualización de datos?\n",
    "https://youtu.be/U9DMb4SPSPA\n",
    "\n",
    "Información comercial con Tableau:\n",
    "https://www.tableau.com/es-es/learn/articles/data-visualization\n"
   ]
  },
  {
   "cell_type": "markdown",
   "metadata": {},
   "source": [
    "Ahora haremos un ejemplo en R. Supongamos que tenemos 8 pacientes que estuvieron en emeregencias y se reporta género, edad y nivel de dolor presentado. Construiremos un arreglo de datos para generar la siguiente tabla\n",
    " \n",
    "|paciente\t|genero\t|edad|\tnivel de dolor|\n",
    "|---|---|---|---|\n",
    "|1\t|Hombre\t|35\t|moderado |\n",
    "|2\t|Mujer\t|40\t|ninguno |\n",
    "|3\t|Mujer\t|35\t|leve|\n",
    "|4\t|Hombre\t|40\t|moderado |\n",
    "|5\t|Hombre\t|30\t|moderado |\n",
    "|6\t|Hombre\t|45\t|severo |\n",
    "|7\t|Mujer\t|35\t|leve |\n",
    "|8\t|Hombre\t|40\t|moderado |\n",
    "\n",
    "Primero creamos  vectores columna con sus respectivos identificadores y verificamos su tipo de variable."
   ]
  },
  {
   "cell_type": "code",
   "execution_count": 22,
   "metadata": {},
   "outputs": [],
   "source": [
    "paciente<-c(1,2,3,4,5,6,7,8)\n",
    "genero<-c(\"Trans\",\"Mujer\",\"Mujer\",\"Hombre\",\"Hombre\",\"Hombre\",\"Mujer\",\"Hombre\")\n",
    "edad<-c(35,40,35,40,30,45,35,40)\n",
    "nivel<-c(\"moderado\",\"ninguno\",\"leve\",\"moderado\",\"moderado\",\"severo\",\"leve\",\"moderado\")"
   ]
  },
  {
   "cell_type": "code",
   "execution_count": 7,
   "metadata": {},
   "outputs": [
    {
     "data": {
      "text/html": [
       "'numeric'"
      ],
      "text/latex": [
       "'numeric'"
      ],
      "text/markdown": [
       "'numeric'"
      ],
      "text/plain": [
       "[1] \"numeric\""
      ]
     },
     "metadata": {},
     "output_type": "display_data"
    }
   ],
   "source": [
    "class(paciente)"
   ]
  },
  {
   "cell_type": "code",
   "execution_count": 6,
   "metadata": {},
   "outputs": [
    {
     "data": {
      "text/html": [
       "'character'"
      ],
      "text/latex": [
       "'character'"
      ],
      "text/markdown": [
       "'character'"
      ],
      "text/plain": [
       "[1] \"character\""
      ]
     },
     "metadata": {},
     "output_type": "display_data"
    }
   ],
   "source": [
    "class(genero)"
   ]
  },
  {
   "cell_type": "code",
   "execution_count": 8,
   "metadata": {},
   "outputs": [
    {
     "data": {
      "text/html": [
       "'numeric'"
      ],
      "text/latex": [
       "'numeric'"
      ],
      "text/markdown": [
       "'numeric'"
      ],
      "text/plain": [
       "[1] \"numeric\""
      ]
     },
     "metadata": {},
     "output_type": "display_data"
    }
   ],
   "source": [
    "class(edad)"
   ]
  },
  {
   "cell_type": "code",
   "execution_count": 9,
   "metadata": {},
   "outputs": [
    {
     "data": {
      "text/html": [
       "'character'"
      ],
      "text/latex": [
       "'character'"
      ],
      "text/markdown": [
       "'character'"
      ],
      "text/plain": [
       "[1] \"character\""
      ]
     },
     "metadata": {},
     "output_type": "display_data"
    }
   ],
   "source": [
    "class(nivel)"
   ]
  },
  {
   "cell_type": "markdown",
   "metadata": {},
   "source": [
    "Para convertir la variable \"genero\" y \"nivel\" en variable nominales y ordinales tenemos que ejecutar en R los siguientes comandos"
   ]
  },
  {
   "cell_type": "code",
   "execution_count": 10,
   "metadata": {},
   "outputs": [],
   "source": [
    "genero<-factor(genero)"
   ]
  },
  {
   "cell_type": "code",
   "execution_count": 12,
   "metadata": {},
   "outputs": [
    {
     "data": {
      "text/html": [
       "<ol class=list-inline>\n",
       "\t<li>Hombre</li>\n",
       "\t<li>Mujer</li>\n",
       "\t<li>Mujer</li>\n",
       "\t<li>Hombre</li>\n",
       "\t<li>Hombre</li>\n",
       "\t<li>Hombre</li>\n",
       "\t<li>Mujer</li>\n",
       "\t<li>Hombre</li>\n",
       "</ol>\n",
       "\n",
       "<details>\n",
       "\t<summary style=display:list-item;cursor:pointer>\n",
       "\t\t<strong>Levels</strong>:\n",
       "\t</summary>\n",
       "\t<ol class=list-inline>\n",
       "\t\t<li>'Hombre'</li>\n",
       "\t\t<li>'Mujer'</li>\n",
       "\t</ol>\n",
       "</details>"
      ],
      "text/latex": [
       "\\begin{enumerate*}\n",
       "\\item Hombre\n",
       "\\item Mujer\n",
       "\\item Mujer\n",
       "\\item Hombre\n",
       "\\item Hombre\n",
       "\\item Hombre\n",
       "\\item Mujer\n",
       "\\item Hombre\n",
       "\\end{enumerate*}\n",
       "\n",
       "\\emph{Levels}: \\begin{enumerate*}\n",
       "\\item 'Hombre'\n",
       "\\item 'Mujer'\n",
       "\\end{enumerate*}\n"
      ],
      "text/markdown": [
       "1. Hombre\n",
       "2. Mujer\n",
       "3. Mujer\n",
       "4. Hombre\n",
       "5. Hombre\n",
       "6. Hombre\n",
       "7. Mujer\n",
       "8. Hombre\n",
       "\n",
       "\n",
       "\n",
       "**Levels**: 1. 'Hombre'\n",
       "2. 'Mujer'\n",
       "\n",
       "\n"
      ],
      "text/plain": [
       "[1] Hombre Mujer  Mujer  Hombre Hombre Hombre Mujer  Hombre\n",
       "Levels: Hombre Mujer"
      ]
     },
     "metadata": {},
     "output_type": "display_data"
    }
   ],
   "source": [
    "genero"
   ]
  },
  {
   "cell_type": "code",
   "execution_count": 13,
   "metadata": {},
   "outputs": [],
   "source": [
    "nivel<-ordered(nivel,c(\"ninguno\",\"leve\",\"moderado\",\"severo\"))"
   ]
  },
  {
   "cell_type": "code",
   "execution_count": 14,
   "metadata": {},
   "outputs": [
    {
     "data": {
      "text/html": [
       "'factor'"
      ],
      "text/latex": [
       "'factor'"
      ],
      "text/markdown": [
       "'factor'"
      ],
      "text/plain": [
       "[1] \"factor\""
      ]
     },
     "metadata": {},
     "output_type": "display_data"
    }
   ],
   "source": [
    "class(genero)"
   ]
  },
  {
   "cell_type": "code",
   "execution_count": 15,
   "metadata": {},
   "outputs": [
    {
     "data": {
      "text/html": [
       "<ol class=list-inline>\n",
       "\t<li>'ordered'</li>\n",
       "\t<li>'factor'</li>\n",
       "</ol>\n"
      ],
      "text/latex": [
       "\\begin{enumerate*}\n",
       "\\item 'ordered'\n",
       "\\item 'factor'\n",
       "\\end{enumerate*}\n"
      ],
      "text/markdown": [
       "1. 'ordered'\n",
       "2. 'factor'\n",
       "\n",
       "\n"
      ],
      "text/plain": [
       "[1] \"ordered\" \"factor\" "
      ]
     },
     "metadata": {},
     "output_type": "display_data"
    }
   ],
   "source": [
    "class(nivel)"
   ]
  },
  {
   "cell_type": "code",
   "execution_count": 16,
   "metadata": {},
   "outputs": [
    {
     "data": {
      "text/html": [
       "<ol class=list-inline>\n",
       "\t<li>Hombre</li>\n",
       "\t<li>Mujer</li>\n",
       "\t<li>Mujer</li>\n",
       "\t<li>Hombre</li>\n",
       "\t<li>Hombre</li>\n",
       "\t<li>Hombre</li>\n",
       "\t<li>Mujer</li>\n",
       "\t<li>Hombre</li>\n",
       "</ol>\n",
       "\n",
       "<details>\n",
       "\t<summary style=display:list-item;cursor:pointer>\n",
       "\t\t<strong>Levels</strong>:\n",
       "\t</summary>\n",
       "\t<ol class=list-inline>\n",
       "\t\t<li>'Hombre'</li>\n",
       "\t\t<li>'Mujer'</li>\n",
       "\t</ol>\n",
       "</details>"
      ],
      "text/latex": [
       "\\begin{enumerate*}\n",
       "\\item Hombre\n",
       "\\item Mujer\n",
       "\\item Mujer\n",
       "\\item Hombre\n",
       "\\item Hombre\n",
       "\\item Hombre\n",
       "\\item Mujer\n",
       "\\item Hombre\n",
       "\\end{enumerate*}\n",
       "\n",
       "\\emph{Levels}: \\begin{enumerate*}\n",
       "\\item 'Hombre'\n",
       "\\item 'Mujer'\n",
       "\\end{enumerate*}\n"
      ],
      "text/markdown": [
       "1. Hombre\n",
       "2. Mujer\n",
       "3. Mujer\n",
       "4. Hombre\n",
       "5. Hombre\n",
       "6. Hombre\n",
       "7. Mujer\n",
       "8. Hombre\n",
       "\n",
       "\n",
       "\n",
       "**Levels**: 1. 'Hombre'\n",
       "2. 'Mujer'\n",
       "\n",
       "\n"
      ],
      "text/plain": [
       "[1] Hombre Mujer  Mujer  Hombre Hombre Hombre Mujer  Hombre\n",
       "Levels: Hombre Mujer"
      ]
     },
     "metadata": {},
     "output_type": "display_data"
    }
   ],
   "source": [
    "genero"
   ]
  },
  {
   "cell_type": "code",
   "execution_count": 19,
   "metadata": {},
   "outputs": [
    {
     "data": {
      "text/html": [
       "<ol class=list-inline>\n",
       "\t<li>moderado</li>\n",
       "\t<li>ninguno</li>\n",
       "\t<li>leve</li>\n",
       "\t<li>moderado</li>\n",
       "\t<li>moderado</li>\n",
       "\t<li>severo</li>\n",
       "\t<li>leve</li>\n",
       "\t<li>moderado</li>\n",
       "</ol>\n",
       "\n",
       "<details>\n",
       "\t<summary style=display:list-item;cursor:pointer>\n",
       "\t\t<strong>Levels</strong>:\n",
       "\t</summary>\n",
       "\t<ol class=list-inline>\n",
       "\t\t<li>'ninguno'</li>\n",
       "\t\t<li>'leve'</li>\n",
       "\t\t<li>'moderado'</li>\n",
       "\t\t<li>'severo'</li>\n",
       "\t</ol>\n",
       "</details>"
      ],
      "text/latex": [
       "\\begin{enumerate*}\n",
       "\\item moderado\n",
       "\\item ninguno\n",
       "\\item leve\n",
       "\\item moderado\n",
       "\\item moderado\n",
       "\\item severo\n",
       "\\item leve\n",
       "\\item moderado\n",
       "\\end{enumerate*}\n",
       "\n",
       "\\emph{Levels}: \\begin{enumerate*}\n",
       "\\item 'ninguno'\n",
       "\\item 'leve'\n",
       "\\item 'moderado'\n",
       "\\item 'severo'\n",
       "\\end{enumerate*}\n"
      ],
      "text/markdown": [
       "1. moderado\n",
       "2. ninguno\n",
       "3. leve\n",
       "4. moderado\n",
       "5. moderado\n",
       "6. severo\n",
       "7. leve\n",
       "8. moderado\n",
       "\n",
       "\n",
       "\n",
       "**Levels**: 1. 'ninguno'\n",
       "2. 'leve'\n",
       "3. 'moderado'\n",
       "4. 'severo'\n",
       "\n",
       "\n"
      ],
      "text/plain": [
       "[1] moderado ninguno  leve     moderado moderado severo   leve     moderado\n",
       "Levels: ninguno < leve < moderado < severo"
      ]
     },
     "metadata": {},
     "output_type": "display_data"
    }
   ],
   "source": [
    "nivel"
   ]
  },
  {
   "cell_type": "markdown",
   "metadata": {},
   "source": [
    "Ahora que hemos construido las variables de manera adecuada, formamos un arreglo de datos o \"data frame\""
   ]
  },
  {
   "cell_type": "code",
   "execution_count": 24,
   "metadata": {},
   "outputs": [],
   "source": [
    "df<-data.frame(paciente,genero,edad,nivel)"
   ]
  },
  {
   "cell_type": "code",
   "execution_count": 25,
   "metadata": {},
   "outputs": [],
   "source": [
    "names(df)<-c(\"paciente\",\"genero\",\"edad\",\"nivel\")"
   ]
  },
  {
   "cell_type": "code",
   "execution_count": 26,
   "metadata": {},
   "outputs": [
    {
     "data": {
      "text/html": [
       "<table>\n",
       "<thead><tr><th scope=col>paciente</th><th scope=col>genero</th><th scope=col>edad</th><th scope=col>nivel</th></tr></thead>\n",
       "<tbody>\n",
       "\t<tr><td>1       </td><td>Trans   </td><td>35      </td><td>moderado</td></tr>\n",
       "\t<tr><td>2       </td><td>Mujer   </td><td>40      </td><td>ninguno </td></tr>\n",
       "\t<tr><td>3       </td><td>Mujer   </td><td>35      </td><td>leve    </td></tr>\n",
       "\t<tr><td>4       </td><td>Hombre  </td><td>40      </td><td>moderado</td></tr>\n",
       "\t<tr><td>5       </td><td>Hombre  </td><td>30      </td><td>moderado</td></tr>\n",
       "\t<tr><td>6       </td><td>Hombre  </td><td>45      </td><td>severo  </td></tr>\n",
       "\t<tr><td>7       </td><td>Mujer   </td><td>35      </td><td>leve    </td></tr>\n",
       "\t<tr><td>8       </td><td>Hombre  </td><td>40      </td><td>moderado</td></tr>\n",
       "</tbody>\n",
       "</table>\n"
      ],
      "text/latex": [
       "\\begin{tabular}{r|llll}\n",
       " paciente & genero & edad & nivel\\\\\n",
       "\\hline\n",
       "\t 1        & Trans    & 35       & moderado\\\\\n",
       "\t 2        & Mujer    & 40       & ninguno \\\\\n",
       "\t 3        & Mujer    & 35       & leve    \\\\\n",
       "\t 4        & Hombre   & 40       & moderado\\\\\n",
       "\t 5        & Hombre   & 30       & moderado\\\\\n",
       "\t 6        & Hombre   & 45       & severo  \\\\\n",
       "\t 7        & Mujer    & 35       & leve    \\\\\n",
       "\t 8        & Hombre   & 40       & moderado\\\\\n",
       "\\end{tabular}\n"
      ],
      "text/markdown": [
       "\n",
       "paciente | genero | edad | nivel | \n",
       "|---|---|---|---|---|---|---|---|\n",
       "| 1        | Trans    | 35       | moderado | \n",
       "| 2        | Mujer    | 40       | ninguno  | \n",
       "| 3        | Mujer    | 35       | leve     | \n",
       "| 4        | Hombre   | 40       | moderado | \n",
       "| 5        | Hombre   | 30       | moderado | \n",
       "| 6        | Hombre   | 45       | severo   | \n",
       "| 7        | Mujer    | 35       | leve     | \n",
       "| 8        | Hombre   | 40       | moderado | \n",
       "\n",
       "\n"
      ],
      "text/plain": [
       "  paciente genero edad nivel   \n",
       "1 1        Trans  35   moderado\n",
       "2 2        Mujer  40   ninguno \n",
       "3 3        Mujer  35   leve    \n",
       "4 4        Hombre 40   moderado\n",
       "5 5        Hombre 30   moderado\n",
       "6 6        Hombre 45   severo  \n",
       "7 7        Mujer  35   leve    \n",
       "8 8        Hombre 40   moderado"
      ]
     },
     "metadata": {},
     "output_type": "display_data"
    }
   ],
   "source": [
    "df"
   ]
  },
  {
   "cell_type": "code",
   "execution_count": 27,
   "metadata": {},
   "outputs": [
    {
     "data": {
      "text/html": [
       "<table>\n",
       "<thead><tr><th scope=col>nivel</th><th scope=col>freq</th></tr></thead>\n",
       "<tbody>\n",
       "\t<tr><td>leve    </td><td>2       </td></tr>\n",
       "\t<tr><td>moderado</td><td>4       </td></tr>\n",
       "\t<tr><td>ninguno </td><td>1       </td></tr>\n",
       "\t<tr><td>severo  </td><td>1       </td></tr>\n",
       "</tbody>\n",
       "</table>\n"
      ],
      "text/latex": [
       "\\begin{tabular}{r|ll}\n",
       " nivel & freq\\\\\n",
       "\\hline\n",
       "\t leve     & 2       \\\\\n",
       "\t moderado & 4       \\\\\n",
       "\t ninguno  & 1       \\\\\n",
       "\t severo   & 1       \\\\\n",
       "\\end{tabular}\n"
      ],
      "text/markdown": [
       "\n",
       "nivel | freq | \n",
       "|---|---|---|---|\n",
       "| leve     | 2        | \n",
       "| moderado | 4        | \n",
       "| ninguno  | 1        | \n",
       "| severo   | 1        | \n",
       "\n",
       "\n"
      ],
      "text/plain": [
       "  nivel    freq\n",
       "1 leve     2   \n",
       "2 moderado 4   \n",
       "3 ninguno  1   \n",
       "4 severo   1   "
      ]
     },
     "metadata": {},
     "output_type": "display_data"
    }
   ],
   "source": [
    "library(plyr)\n",
    "N<-count(df, 'nivel')\n",
    "N"
   ]
  },
  {
   "cell_type": "code",
   "execution_count": 28,
   "metadata": {},
   "outputs": [
    {
     "data": {},
     "metadata": {},
     "output_type": "display_data"
    },
    {
     "data": {
      "image/png": "[encoded data removed]",
      "text/plain": [
       "plot without title"
      ]
     },
     "metadata": {},
     "output_type": "display_data"
    }
   ],
   "source": [
    "library(ggplot2)\n",
    "# Change barplot line colors by groups\n",
    "p1<-ggplot(data=N, aes(x=nivel, y=freq, color=freq)) +\n",
    "  geom_bar(stat=\"identity\", fill=\"Blue\")+\n",
    "geom_abline(slope=0, intercept=mean(N$freq),  col = \"red\",lty=2) \n",
    "p1\n"
   ]
  },
  {
   "cell_type": "code",
   "execution_count": 29,
   "metadata": {},
   "outputs": [
    {
     "data": {},
     "metadata": {},
     "output_type": "display_data"
    },
    {
     "data": {
      "image/png": "[encoded data removed]",
      "text/plain": [
       "plot without title"
      ]
     },
     "metadata": {},
     "output_type": "display_data"
    }
   ],
   "source": [
    "\n",
    "# Basic barplot\n",
    "p2<-ggplot(data=df, aes(x=paciente, y=edad, fill=edad)) +\n",
    "  geom_bar(stat=\"identity\")+theme_minimal()+\n",
    " geom_abline(slope=0, intercept=mean(edad),  col = \"red\",lty=2) \n",
    "p2"
   ]
  },
  {
   "cell_type": "markdown",
   "metadata": {},
   "source": [
    "# Medidas de Tendencia Central para datos agrupados\n",
    "\n",
    "Se tienen datos agrupados cuando los datos se clasifican y agrupan en clases o intervalos para reducir el grado de complejidad en su manejo. Actualmente trabajar datos de manera computacional no hace necesario agrupar la información para su tratamiento ya que una pc y programas adecuados puede calcular los estadísticos sin problemas, pero la interpretación y manejo de la información se simplifica.\n",
    "\n",
    "video para datos agrupados  :  https://youtu.be/kek-jrOSuHU\n",
    "\n",
    "# Definiciones\n",
    "\n",
    "Datos no procesados: Colección de datos en su forma original.\n",
    "\n",
    "8\t11\t15\t17\t20 22\t23\t27\t27\t28 29\t33\t35\t37\t39 41\t44\t\t\t\n",
    "\n",
    "\n",
    "Distribución de frecuencias: La organización de datos no procesados en forma de tabla con frecuencias de clases.\n",
    "\n",
    "Ejemplo:\n",
    "\n",
    "|Intervalos|Frecuencia|\n",
    "|--- |---|\n",
    "|8-15\t|3|\n",
    "|16-23\t|4|\n",
    "|24-31\t|4|\n",
    "|32-39\t|4|\n",
    "|40-47\t|2|\n",
    "\n",
    "Analizamos su estructura en la siguiente tabla\n",
    "\n",
    "|Frontera de clase inferior\t|Límite de clase inferior\t|Límite de clase superior\t|Frontera de clase superior |Frecuencia|\n",
    "|---|---|---|---|---|\n",
    "|7.5\t|8\t|15\t|15.5\t|3|\n",
    "|15.5\t|16\t|23\t|23.5\t|4|\n",
    "|23.5\t|24\t|31\t|31.5\t|4|\n",
    "|31.5\t|32\t|39\t|39.5\t|4|\n",
    "|39.5\t|40\t|47\t|47.5\t|2|\n",
    "\n",
    "\n",
    "### Límite de clase:\n",
    "Separa una clase de otra en una distribución de frecuencias agrupada. Los límites podrían aparecer en los datos y existe una separación entre los límites superior de una clase y el límite inferior de la siguiente.   \n",
    "\n",
    "### Frontera de clase o límites reales de clase:\n",
    "Separa una clase de otra en una distribución de frecuencias agrupada. Las fronteras tienen una posición decimal más que los datos no procesados y por lo tanto no aparecen en los datos. No hay separación entre las fronteras superiores de una clase y las fronteras inferiores de la siguiente clase.\n",
    "\n",
    "### Longitud, amplitud o ancho de clase:\n",
    "La diferencia entre la frontera inferior y superior de cualquiera de las clases. El ancho de clase es también la diferencia entre el límite inferior de dos clases consecutivas o los límites superiores de dos clases consecutivas. No es la diferencia entre los límites inferior y superior de la misma clase.\n"
   ]
  },
  {
   "cell_type": "markdown",
   "metadata": {},
   "source": [
    "Para hacer Histogramas o ojivas: https://youtu.be/jj6MoVx1HYk\n",
    "\n",
    "\n",
    "### Marca de clase (Punto medio) \n",
    "Es el número exctamente en la mitad de la clase. Se encuentra sumando los límites superior e inferior de la clase y dividiendo entre dos. También se puede encontrar como el promedio de las fronteras de clase.\n",
    "\n",
    "### Frecuencia acumulada\n",
    "El número de valores que son menores a la frontera de clase superior de la clase a analizar. Calcula el total de frecuencias antes o en la clase a estudiar. \n",
    "\n",
    "### Frecuencia relativa \n",
    "Es la frecuencia dividida por la frecuencia total. La frecuencia relativa se puede interpretar como el porcentaje de datos con respecto al total que se encuentran en la clase.\n",
    "Frecuencia relativa acumulada \n",
    "EL total de las frecuencias relativas o la frecuencia acumulada dividida por el total de frecuencias para un clase dada. Es el porcentaje de la suma todos los  valores menores a la frontera superior de clase.\n",
    " \n",
    "### Histograma \n",
    "Una gráfica que muestra los datos usando barras verticales con las alturas como frecuencias. En el eje horizontal pueden representarse las fronteras de clase, las marcas de clase o los límites de la clase. \n",
    "\n",
    "### Polígono de frecuencias\n",
    "Es una gráfica hecha de líneas. La frecuencia se coloca en el eje vertical, que se grafican con respecto a las marcas de clase.   Estos puntos se conectan con líneas rectas. Siempre empieza y termina en cero. \n",
    "### Ojiva\n",
    "Un polígono de frecuencias de frecuencias acumuladas o acumuladas relativas. En el eje vertical se grafican las  frecuencias acumuladas o acumuladas relativas En el eje horizontal se colocan las fronteras de clase respectivamente. La gráfica siempre empieza en cero sobre la primer frontera de clase de los datos y termina con la frecuencia total (frecuencia acumulada) o en 1.00(frecuencia acumlada relativa.)  "
   ]
  },
  {
   "cell_type": "markdown",
   "metadata": {},
   "source": [
    "### media aritmética.\n",
    "\n",
    "$$\\mu=\\frac{\\sum^{n}_{i=1}f_i x_i}{n}$$\n",
    "\n",
    "donde $f_i$ es la frecuencia de clase y $x_i$ es la marca de clase.\n",
    "\n",
    "\n",
    "### Mediana\n",
    "\n",
    "$$ Mediana = F_i+\\frac{N/2-FA_m}{f_m}a$$\n",
    "\n",
    "donde \n",
    "* $F_i$ es la frontera o límite inferior real de la clase en donde se encuentra la mediana.\n",
    "* $N $ es el número total de datos.\n",
    "* $FA_m$ frecuencia de la clase anterior donde se encuentra la mediana.\n",
    "* $f_m$ es la frecuencia de la clase que contiene a la mediana.\n",
    "* $a$ es el ancho de la clase.\n",
    "\n",
    "### n-ésimo Percentil: Cuantiles\n",
    "\n",
    "$$ P_n= F_i+\\frac{N*n/100-FA_n}{f_n}a$$\n",
    "\n",
    "donde \n",
    "* $F_i$ es la frontera o límite inferior real de la clase en donde se encuentra el n-ésimo percentil.\n",
    "* $N $ es el número total de datos.\n",
    "* $FA_m$ frecuencia de una clase anterior donde se encuentra el n-ésimo percentil.\n",
    "* $f_m$ es la frecuencia de la clase que contiene el n-ésimo percentil.\n",
    "* $a$ es el ancho de la clase.\n",
    "\n",
    "### Deciles, cuartiles, percentiles\n",
    "\n",
    "* $P_{10}=D_1$\n",
    "* $P_{20}=D_2$\n",
    "* $P_{25}=Q_1$\n",
    "* $P_{30}=D_3$\n",
    "* $P_{40}=D_4$\n",
    "* $P_{50}=Q_2=D_5=$ Mediana\n",
    "* $P_{75}=Q_3$\n",
    "\n",
    "### Moda\n",
    "\n",
    "$$ Moda = F_i+\\frac{\\Delta_a}{\\Delta_a+\\Delta_p}a$$\n",
    "\n",
    "donde \n",
    "* $F_i$ es la frontera o límite inferior real de la clase en donde se encuentra la moda.\n",
    "* $\\Delta_a$ Es la diferencia entre la frecuencia de la clase que contiene a la moda y la frecuencia de la clase *anterior* a la clase que contiene a la moda.\n",
    "* $\\Delta_p$ Es la diferencia entre la frecuencia de la clase que contiene a la moda y la frecuencia de la clase *posterior* a la clase que contiene a la moda.\n",
    "\n",
    "\n",
    "\n",
    "# Medidas de Dispersión para datos agrupados\n",
    "\n",
    "La dispersión se refiere a que tan alejados están los datos alrededor de la tendencia central. Son las mismas fórmulas que para datos no agrupados, pero ahora $x_i$ se refiere a la marca de clase y $f_i$ a la frecuencia de la clase.\n",
    "\n",
    "### Desviación Media Absoluta (MAD):\n",
    "\n",
    "$$ \\sum_{i}|x_i-\\mu| \\mbox{    usando frecuencias    } \\sum_{i}f_i|x_i-\\mu|$$\n",
    "La media aritmética se puede interpretar como el valor que se encuentra en medio de los demás valores, como centro entre sobrantes y faltantes.\n",
    "\n",
    "##  Diferentes tipos de Varianza\n",
    "\n",
    "Es el promedio cuadrático de las desviaciones individuales. Distinguimos entre poblacional y muestral.\n",
    "\n",
    "### Varianza poblacional.\n",
    "\n",
    "$$\\sigma^2=\\frac{\\sum^{N}_{i=1}f_i*(x_i-\\mu)^2}{N}$$\n",
    "\n",
    "###  Varianza muestral.\n",
    "\n",
    "$$s^2=\\frac{\\sum^{n}_{i=1}f_i*(x_i-\\mu)^2}{n-1}$$\n",
    "\n",
    "### Desviación Estándar\n",
    "La desviación estándar la raiz cuadrada de la varianza y mide cuánto se dispersan los datos.\n",
    "\n",
    "Desviación Estándar poblacional $= \\sigma = \\sqrt{\\sigma^2}$\n",
    "\n",
    "Desviación Estándar muestral $= 𝑠 = \\sqrt{s^2}$"
   ]
  },
  {
   "cell_type": "code",
   "execution_count": 44,
   "metadata": {},
   "outputs": [
    {
     "data": {
      "text/html": [
       "<ol class=list-inline>\n",
       "\t<li>1</li>\n",
       "\t<li>2</li>\n",
       "\t<li>3</li>\n",
       "\t<li>1</li>\n",
       "\t<li>3</li>\n",
       "\t<li>4</li>\n",
       "\t<li>5</li>\n",
       "\t<li>2</li>\n",
       "\t<li>6</li>\n",
       "\t<li>7</li>\n",
       "\t<li>9</li>\n",
       "\t<li>12</li>\n",
       "\t<li>50</li>\n",
       "\t<li>3</li>\n",
       "\t<li>34</li>\n",
       "\t<li>21</li>\n",
       "\t<li>23</li>\n",
       "\t<li>32</li>\n",
       "\t<li>32</li>\n",
       "\t<li>12</li>\n",
       "\t<li>21</li>\n",
       "\t<li>2</li>\n",
       "</ol>\n"
      ],
      "text/latex": [
       "\\begin{enumerate*}\n",
       "\\item 1\n",
       "\\item 2\n",
       "\\item 3\n",
       "\\item 1\n",
       "\\item 3\n",
       "\\item 4\n",
       "\\item 5\n",
       "\\item 2\n",
       "\\item 6\n",
       "\\item 7\n",
       "\\item 9\n",
       "\\item 12\n",
       "\\item 50\n",
       "\\item 3\n",
       "\\item 34\n",
       "\\item 21\n",
       "\\item 23\n",
       "\\item 32\n",
       "\\item 32\n",
       "\\item 12\n",
       "\\item 21\n",
       "\\item 2\n",
       "\\end{enumerate*}\n"
      ],
      "text/markdown": [
       "1. 1\n",
       "2. 2\n",
       "3. 3\n",
       "4. 1\n",
       "5. 3\n",
       "6. 4\n",
       "7. 5\n",
       "8. 2\n",
       "9. 6\n",
       "10. 7\n",
       "11. 9\n",
       "12. 12\n",
       "13. 50\n",
       "14. 3\n",
       "15. 34\n",
       "16. 21\n",
       "17. 23\n",
       "18. 32\n",
       "19. 32\n",
       "20. 12\n",
       "21. 21\n",
       "22. 2\n",
       "\n",
       "\n"
      ],
      "text/plain": [
       " [1]  1  2  3  1  3  4  5  2  6  7  9 12 50  3 34 21 23 32 32 12 21  2"
      ]
     },
     "metadata": {},
     "output_type": "display_data"
    }
   ],
   "source": [
    "datos<-c(1,2,3,1,3,4,5,2,6,7,9,12,50,3,34,21,23,32,32,12,21,2)\n",
    "datos"
   ]
  },
  {
   "cell_type": "code",
   "execution_count": 42,
   "metadata": {},
   "outputs": [
    {
     "data": {
      "text/html": [
       "22"
      ],
      "text/latex": [
       "22"
      ],
      "text/markdown": [
       "22"
      ],
      "text/plain": [
       "[1] 22"
      ]
     },
     "metadata": {},
     "output_type": "display_data"
    }
   ],
   "source": [
    "length(datos)"
   ]
  },
  {
   "cell_type": "code",
   "execution_count": 32,
   "metadata": {},
   "outputs": [
    {
     "data": {
      "text/html": [
       "<ol class=list-inline>\n",
       "\t<li>1</li>\n",
       "\t<li>1</li>\n",
       "\t<li>2</li>\n",
       "\t<li>2</li>\n",
       "\t<li>2</li>\n",
       "\t<li>3</li>\n",
       "\t<li>3</li>\n",
       "\t<li>3</li>\n",
       "\t<li>4</li>\n",
       "\t<li>5</li>\n",
       "\t<li>6</li>\n",
       "\t<li>7</li>\n",
       "\t<li>9</li>\n",
       "\t<li>12</li>\n",
       "\t<li>12</li>\n",
       "\t<li>21</li>\n",
       "\t<li>21</li>\n",
       "\t<li>23</li>\n",
       "\t<li>23</li>\n",
       "\t<li>32</li>\n",
       "\t<li>32</li>\n",
       "\t<li>34</li>\n",
       "</ol>\n"
      ],
      "text/latex": [
       "\\begin{enumerate*}\n",
       "\\item 1\n",
       "\\item 1\n",
       "\\item 2\n",
       "\\item 2\n",
       "\\item 2\n",
       "\\item 3\n",
       "\\item 3\n",
       "\\item 3\n",
       "\\item 4\n",
       "\\item 5\n",
       "\\item 6\n",
       "\\item 7\n",
       "\\item 9\n",
       "\\item 12\n",
       "\\item 12\n",
       "\\item 21\n",
       "\\item 21\n",
       "\\item 23\n",
       "\\item 23\n",
       "\\item 32\n",
       "\\item 32\n",
       "\\item 34\n",
       "\\end{enumerate*}\n"
      ],
      "text/markdown": [
       "1. 1\n",
       "2. 1\n",
       "3. 2\n",
       "4. 2\n",
       "5. 2\n",
       "6. 3\n",
       "7. 3\n",
       "8. 3\n",
       "9. 4\n",
       "10. 5\n",
       "11. 6\n",
       "12. 7\n",
       "13. 9\n",
       "14. 12\n",
       "15. 12\n",
       "16. 21\n",
       "17. 21\n",
       "18. 23\n",
       "19. 23\n",
       "20. 32\n",
       "21. 32\n",
       "22. 34\n",
       "\n",
       "\n"
      ],
      "text/plain": [
       " [1]  1  1  2  2  2  3  3  3  4  5  6  7  9 12 12 21 21 23 23 32 32 34"
      ]
     },
     "metadata": {},
     "output_type": "display_data"
    }
   ],
   "source": [
    "sort(datos)"
   ]
  },
  {
   "cell_type": "code",
   "execution_count": 33,
   "metadata": {},
   "outputs": [
    {
     "data": {
      "text/html": [
       "11.7272727272727"
      ],
      "text/latex": [
       "11.7272727272727"
      ],
      "text/markdown": [
       "11.7272727272727"
      ],
      "text/plain": [
       "[1] 11.72727"
      ]
     },
     "metadata": {},
     "output_type": "display_data"
    },
    {
     "data": {
      "text/html": [
       "6.5"
      ],
      "text/latex": [
       "6.5"
      ],
      "text/markdown": [
       "6.5"
      ],
      "text/plain": [
       "[1] 6.5"
      ]
     },
     "metadata": {},
     "output_type": "display_data"
    }
   ],
   "source": [
    "mean(datos)\n",
    "median(datos)"
   ]
  },
  {
   "cell_type": "code",
   "execution_count": 37,
   "metadata": {},
   "outputs": [
    {
     "data": {
      "text/plain": [
       "   Min. 1st Qu.  Median    Mean 3rd Qu.    Max. \n",
       "   1.00    3.00    6.50   14.32   21.00   80.00 "
      ]
     },
     "metadata": {},
     "output_type": "display_data"
    }
   ],
   "source": [
    "summary(datos)"
   ]
  },
  {
   "cell_type": "code",
   "execution_count": 40,
   "metadata": {},
   "outputs": [
    {
     "data": {
      "image/png": "[encoded data removed]",
      "text/plain": [
       "plot without title"
      ]
     },
     "metadata": {},
     "output_type": "display_data"
    }
   ],
   "source": [
    "boxplot(datos)"
   ]
  },
  {
   "cell_type": "code",
   "execution_count": 43,
   "metadata": {},
   "outputs": [
    {
     "data": {
      "text/html": [
       "<dl class=dl-horizontal>\n",
       "\t<dt>0%</dt>\n",
       "\t\t<dd>1</dd>\n",
       "\t<dt>25%</dt>\n",
       "\t\t<dd>3</dd>\n",
       "\t<dt>50%</dt>\n",
       "\t\t<dd>6.5</dd>\n",
       "\t<dt>75%</dt>\n",
       "\t\t<dd>21</dd>\n",
       "\t<dt>100%</dt>\n",
       "\t\t<dd>50</dd>\n",
       "</dl>\n"
      ],
      "text/latex": [
       "\\begin{description*}\n",
       "\\item[0\\textbackslash{}\\%] 1\n",
       "\\item[25\\textbackslash{}\\%] 3\n",
       "\\item[50\\textbackslash{}\\%] 6.5\n",
       "\\item[75\\textbackslash{}\\%] 21\n",
       "\\item[100\\textbackslash{}\\%] 50\n",
       "\\end{description*}\n"
      ],
      "text/markdown": [
       "0%\n",
       ":   125%\n",
       ":   350%\n",
       ":   6.575%\n",
       ":   21100%\n",
       ":   50\n",
       "\n"
      ],
      "text/plain": [
       "  0%  25%  50%  75% 100% \n",
       " 1.0  3.0  6.5 21.0 50.0 "
      ]
     },
     "metadata": {},
     "output_type": "display_data"
    }
   ],
   "source": [
    "quantile(datos,c(0,.25,.5,.75,1) , type = 5)"
   ]
  },
  {
   "cell_type": "code",
   "execution_count": null,
   "metadata": {},
   "outputs": [],
   "source": []
  }
 ],
 "metadata": {
  "kernelspec": {
   "display_name": "R",
   "language": "R",
   "name": "ir"
  },
  "language_info": {
   "codemirror_mode": "r",
   "file_extension": ".r",
   "mimetype": "text/x-r-source",
   "name": "R",
   "pygments_lexer": "r",
   "version": "3.5.1"
  }
 },
 "nbformat": 4,
 "nbformat_minor": 2
}
