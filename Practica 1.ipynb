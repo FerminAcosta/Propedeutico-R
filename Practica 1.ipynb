{
 "cells": [
  {
   "cell_type": "markdown",
   "metadata": {},
   "source": [
    "# Práctica 1. Métodos Descriptivos\n",
    "\n",
    "En esta práctica vamos a revisar Estadística descriptiva básica.\n",
    "\n",
    "## Poblaciones y muestras\n",
    "\n",
    "**Población** es el conjunto formado por la totalidad de observaciones que son de interés. \n",
    "\n",
    "Puede haber poblaciones finitas o infinitas. Una muestra es un subconjunto de una población. Los datos los entendemos como el registro de mediciones hechas sobre características de la población o muestra de interés.\n",
    "\n",
    "Un **parámetro** se define como cualquier resumen de los elementos de una población, mientras que el resumen de los elementos de una muestra se conoce como estadística.\n",
    "\n",
    "La **estadística descriptiva** está para resumir la información contenida en un conjunto de datos. \n",
    "\n",
    "La **estadística inferencial** está conformada por técnicas para proveer información acerca de los parámetros basados en observaciones hechas sobre los valores de las estadísticas.\n",
    "\n",
    "\n",
    "\n",
    "## Diferentes tipos de datos y escalas de medición.\n",
    "\n",
    "### La escala nominal.\n",
    "\n",
    "Esta escala clasifica, pero no da información cuantitativa. No hay orden. Los datos pueden ser etiquetas, nombres o categorías. Pueden ser numéricos o no numéricos.  Por ejemplo, variables que se pueden medir con esta escala son: \"Masculino\", \"Femenino\", \"Católico\", \"Protestante\",\"Tamaulipas\", \"Guerrero\", etc.\n",
    "\n",
    "### La escala ordinal \n",
    "\n",
    "Clasifica con orden. Ejemplos de estas variables puede ser una pregunta con escala tipo Likert con respuestas como: \"Muy en desacuerdo\", \"Desacuerdo\", \"De acuerdo\", \"Muy de acuerdo\". \n",
    "\n",
    "### La escala de intervalo\n",
    "\n",
    "Clasifica con orden y una escala, pero no hay un punto de referencia cero descrito claramente. Por ejemplo, la variable temperatura está descrita por escalas Farenheit o celcius, pero grado cero no implica que no haya ningún nivel de temperatura.\n",
    "\n",
    "### La escala de razón\n",
    " \n",
    "Clasifica con orden y escala con un punto de referencia. Ejemplos, el peso, altura, distancia, etc.\n",
    "\n",
    "Otro tipo de clasificación de datos los clasifica como **continuos** o **discretos**. Unq variable es continua si tiene tantos números como un segemento de la recta real, por ejemplo, el tiempo, la temperatura o el peso de una persona. Una variable discreta es aquella que no es continua. Una variable que mida un conjunto finito de elementos o infinito tanto como los números naturales 1,2,3,4,... . Las variable discretas que toman dos posibles valores se llaman variables **dicotómicas** como por ejemplo, hombre o mujer, muerto o vivo, positivo o negativo.\n",
    "\n",
    "## Distribuciones\n",
    "\n",
    "La frecuencia es el número de respuestas en una categoría dada.  Los datos se pueden ordenar en distribuciones de frecuencias, fecuencias relativas, frecuencias acumuladas y frecuencias relativas acumuladas.\n",
    "\n",
    "Tabla 1. Mediciones de dolor percibido por 6 pacientes\n",
    "\n",
    " Número de Paciente| Nivel de Dolor |\n",
    " --- | --- |\n",
    " 1 | moderado | \n",
    " 2 | ninguno| \n",
    " 3 | leve | \n",
    " 4 | leve |\n",
    " 5 | moderado | \n",
    " 6 | severo | \n",
    " \n",
    "\n",
    "Tabla 2. Distribuciones de mediciones de dolor percibido\n",
    "\n",
    "Categoría de dolor| Frecuencia | Frecuencia relativa | Frecuencia acumulada | Frecuencia relativa acumulada |\n",
    "--- | --- | --- | --- | --- | \n",
    "Severo            | 1          | 1/6                  | 1                 | 1/6                            |\n",
    "Moderado          | 2          | 1/3                 |  3                  |1/2                            |\n",
    "Leve              | 2          | 1/3                  | 5                  | 5/6                            |\n",
    "Ninguno           | 1          | 1/6                  | 6                  |1                            |\n",
    "\n",
    "\n",
    "\n",
    "\n",
    "video para datos agrupados  : https://youtu.be/fOuRqk1nzgY\n",
    "\n",
    "video para datos no agrupados : https://youtu.be/kek-jrOSuHU\n",
    "\n",
    "\n",
    "\n",
    "## Medidas de Tendencia Central para datos no agrupados\n",
    "\n",
    "$\\bar{x}=\\frac{\\sum^{n}_{i=1}x_i}{n}=\\frac{\\sum^{n}_{i=1}f_i x_i}{n}$ como media aritmética muestral.\n",
    "\n",
    "\n",
    "$\\mu=\\frac{\\sum^{n}_{i=1}x_i}{n}=\\frac{\\sum^{N}_{i=1}f_i x_i}{N}$ como media aritmética poblacional.\n",
    "\n",
    "$\\sigma^2=\\frac{\\sum^{n}_{i=1}(x_i-\\mu)^2}{N}=\\frac{\\sum^{n}_{i=1}f_i*(x_i-\\mu)^2}{N}$ como varianza poblacional.\n",
    "\n",
    "$s^2=\\frac{\\sum^{n}_{i=1}(x_i-\\mu)^2}{n-1}=\\frac{\\sum^{n}_{i=1}f_i*(x_i-\\mu)^2}{n-1}$ como varianza muestral.\n",
    "\n",
    "## Medidas de Tendencia Central para datos agrupados\n"
   ]
  },
  {
   "cell_type": "markdown",
   "metadata": {
    "collapsed": true
   },
   "source": []
  },
  {
   "cell_type": "code",
   "execution_count": 1,
   "metadata": {},
   "outputs": [
    {
     "ename": "ERROR",
     "evalue": "Error in parse(text = x, srcfile = src): <text>:1:6: unexpected symbol\n1: from IPython.display\n         ^\n",
     "output_type": "error",
     "traceback": [
      "Error in parse(text = x, srcfile = src): <text>:1:6: unexpected symbol\n1: from IPython.display\n         ^\nTraceback:\n"
     ]
    }
   ],
   "source": [
    "from IPython.display import Iframe\n",
    "Iframe(\"https://www.desmos.com/calculator/s4dex3eruv\",width='100%', height=500)"
   ]
  },
  {
   "cell_type": "code",
   "execution_count": 2,
   "metadata": {},
   "outputs": [],
   "source": [
    "vector<-c(\"Ninguno\", \"Leve\", \"Moderado\",\"severo\")"
   ]
  },
  {
   "cell_type": "code",
   "execution_count": 3,
   "metadata": {},
   "outputs": [
    {
     "data": {
      "text/html": [
       "'character'"
      ],
      "text/latex": [
       "'character'"
      ],
      "text/markdown": [
       "'character'"
      ],
      "text/plain": [
       "[1] \"character\""
      ]
     },
     "metadata": {},
     "output_type": "display_data"
    }
   ],
   "source": [
    "class(vector)"
   ]
  },
  {
   "cell_type": "code",
   "execution_count": 4,
   "metadata": {},
   "outputs": [],
   "source": [
    "frecuencia<-c(1,2,2,1)"
   ]
  },
  {
   "cell_type": "code",
   "execution_count": null,
   "metadata": {},
   "outputs": [],
   "source": []
  }
 ],
 "metadata": {
  "kernelspec": {
   "display_name": "R",
   "language": "R",
   "name": "ir"
  },
  "language_info": {
   "codemirror_mode": "r",
   "file_extension": ".r",
   "mimetype": "text/x-r-source",
   "name": "R",
   "pygments_lexer": "r",
   "version": "3.5.1"
  }
 },
 "nbformat": 4,
 "nbformat_minor": 2
}
