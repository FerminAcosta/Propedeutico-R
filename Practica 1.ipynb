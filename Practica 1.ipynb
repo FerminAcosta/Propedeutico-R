{
 "cells": [
  {
   "cell_type": "markdown",
   "metadata": {},
   "source": [
    "# Práctica 1. Métodos Descriptivos\n",
    "\n",
    "En esta práctica vamos a revisar Estadística descriptiva básica.\n",
    "\n",
    "## Poblaciones y muestras\n",
    "\n",
    "**Población** es el conjunto formado por la totalidad de observaciones que son de interés. \n",
    "\n",
    "Puede haber poblaciones finitas o infinitas. Una muestra es un subconjunto de una población. Los datos los entendemos como el registro de mediciones hechas sobre características de la población o muestra de interés.\n",
    "\n",
    "Un **parámetro** se define como cualquier resumen de los elementos de una población, mientras que el resumen de los elementos de una muestra se conoce como estadística.\n",
    "\n",
    "La **estadística descriptiva** está para resumir la información contenida en un conjunto de datos. \n",
    "\n",
    "La **estadística inferencial** está conformada por técnicas para proveer información acerca de los parámetros basados en observaciones hechas sobre los valores de las estadísticas.\n",
    "\n",
    "\n",
    "\n",
    "## Diferentes tipos de datos y escalas de medición.\n",
    "\n",
    "### La escala nominal.\n",
    "\n",
    "Esta escala clasifica, pero no da información cuantitativa. No hay orden. Los datos pueden ser etiquetas, nombres o categorías. Pueden ser numéricos o no numéricos.  Por ejemplo, variables que se pueden medir con esta escala son: \"Masculino\", \"Femenino\", \"Católico\", \"Protestante\",\"Tamaulipas\", \"Guerrero\", etc.\n",
    "\n",
    "### La escala ordinal \n",
    "\n",
    "Clasifica con orden. Ejemplos de estas variables puede ser una pregunta con escala tipo Likert con respuestas como: \"Muy en desacuerdo\", \"Desacuerdo\", \"De acuerdo\", \"Muy de acuerdo\". \n",
    "\n",
    "### La escala de intervalo\n",
    "\n",
    "Clasifica con orden y una escala, pero no hay un punto de referencia cero descrito claramente. Por ejemplo, la variable temperatura está descrita por escalas Farenheit o celcius, pero grado cero no implica que no haya ningún nivel de temperatura.\n",
    "\n",
    "### La escala de razón\n",
    " \n",
    "Clasifica con orden y escala con un punto de referencia. Ejemplos, el peso, altura, distancia, etc.\n",
    "\n",
    "Otro tipo de clasificación de datos los clasifica como **continuos** o **discretos**. Unq variable es continua si tiene tantos números como un segemento de la recta real, por ejemplo, el tiempo, la temperatura o el peso de una persona. Una variable discreta es aquella que no es continua. Una variable que mida un conjunto finito de elementos o infinito tanto como los números naturales 1,2,3,4,... . Las variable discretas que toman dos posibles valores se llaman variables **dicotómicas** como por ejemplo, hombre o mujer, muerto o vivo, positivo o negativo.\n",
    "\n",
    "## Distribuciones\n",
    "\n",
    "La frecuencia es el número de respuestas en una categoría dada.  Los datos se pueden ordenar en distribuciones de frecuencias, frecuencias relativas, frecuencias acumuladas y frecuencias relativas acumuladas.\n",
    "\n",
    "Tabla 1. Mediciones de dolor percibido por 6 pacientes\n",
    "\n",
    " Número de Paciente| Género|Edad| Nivel de Dolor | \n",
    " --- | --- | --- | --- |\n",
    " 1 |Hombre|35| moderado | \n",
    " 2 |Mujer|21| ninguno| \n",
    " 3 |Mujer|42| leve | \n",
    " 4 |Hombre|25| leve |\n",
    " 5 |Hombre|18| moderado | \n",
    " 6 Hombre|65| severo | \n",
    " \n",
    "\n",
    "Tabla 2. Distribuciones de mediciones de dolor percibido\n",
    "\n",
    "Categoría de dolor| Frecuencia | Frecuencia relativa | Frecuencia acumulada | Frecuencia relativa acumulada |\n",
    "--- | --- | --- | --- | --- | \n",
    "Severo            | 1          | 1/6                  | 1                 | 1/6                            |\n",
    "Moderado          | 2          | 1/3                 |  3                  |1/2                            |\n",
    "Leve              | 2          | 1/3                  | 5                  | 5/6                            |\n",
    "Ninguno           | 1          | 1/6                  | 6                  |1                            |\n",
    "\n",
    "\n",
    "\n",
    "\n",
    "video para datos agrupados  : https://youtu.be/fOuRqk1nzgY\n",
    "\n",
    "video para datos no agrupados : https://youtu.be/kek-jrOSuHU\n",
    "\n",
    "\n",
    "\n",
    "\n",
    "\n",
    "## Medidas de Tendencia Central para datos no agrupados\n",
    "\n",
    "\n",
    "\n",
    "### - media aritmética muestral.\n",
    "\n",
    "$$\\bar{x}=\\frac{\\sum^{n}_{i=1}x_i}{n}=\\frac{\\sum^{n}_{i=1}f_i x_i}{n}$$ \n",
    "\n",
    "\n",
    "### - media aritmética poblacional.\n",
    "\n",
    "$$\\mu=\\frac{\\sum^{n}_{i=1}x_i}{n}=\\frac{\\sum^{N}_{i=1}f_i x_i}{N}$$\n",
    "\n",
    "\n",
    "\n",
    "### - Promedio ponderado o con pesos:\n",
    "\n",
    "$$\\mu=\\frac{\\sum^{N}_{i=1}w_i x_i}{\\sum^{N}_{i=1}w_i}$$\n",
    "\n",
    "\n",
    "### - Mediana\n",
    "\n",
    "La mediana  $\\~{x}$ es el número que separa en dos partes iguales a la muestra o\n",
    "población cuando el conjunto de datos ha sido ordenado de menor a mayor orden de magnitud.\n",
    "\n",
    "\n",
    "  *Posición de la mediana* $ = (𝑁 + 1)/2$\n",
    "  \n",
    "  \n",
    "Donde $𝑁$ es el número de datos. Si $𝑁$ es par la posición de la mediana es $(𝑁 + 1)/2$. Si $𝑁$ es impar\n",
    "la mediana es el promedio de los valores en la posición $N/2$ y la posición $(N+1)/2$. \n",
    "\n",
    "### - Moda\n",
    "\n",
    "Es el dato con mayor frecuencia de ocurrencia en el grupo de datos.\n",
    "\n",
    "\n",
    "\n",
    "## Medidas de Tendencia Central para datos agrupados\n",
    "\n",
    "Medidas de Dispersión\n",
    "La dispersión se refiere a que tan alejados están los datos alrededor de la tendencia central.\n",
    "\n",
    "### - El rango \n",
    "\n",
    "El rango es la diferencia entre el mayor menos el menor valor.\n",
    "\n",
    "### - Desviación individual: \n",
    "\n",
    "$$𝑥_𝑖 − \\mu$$\n",
    "\n",
    "### Propiedad importante de la media:\n",
    " \n",
    " $$ \\sum_{i}x_i-\\mu=0 \\mbox{    usando frecuencias    } \\sum_{i}f_i(x_i-\\mu)=0$$\n",
    " \n",
    "### - Desviación Media Absoluta (MAD):\n",
    "\n",
    "$$ \\sum_{i}|x_i-\\mu| \\mbox{    usando frecuencias    } \\sum_{i}f_i|x_i-\\mu|$$\n",
    "\n",
    "\n",
    "La media aritmética se puede interpretar como el valor que se encuentra en medio de los demás valores, como centro entre sobrantes y faltantes.\n",
    "\n",
    "\n",
    "\n",
    "\n",
    "\n",
    " ## - Varianza \n",
    " \n",
    "Es el promedio cuadrático de las desviaciones individuales.\n",
    "\n",
    "\n",
    "### - Varianza poblacional.\n",
    "\n",
    "$$\\sigma^2=\\frac{\\sum^{n}_{i=1}(x_i-\\mu)^2}{N}=\\frac{\\sum^{n}_{i=1}f_i*(x_i-\\mu)^2}{N}$$\n",
    "\n",
    "### - Varianza muestral.\n",
    "\n",
    "$$s^2=\\frac{\\sum^{n}_{i=1}(x_i-\\mu)^2}{n-1}=\\frac{\\sum^{n}_{i=1}f_i*(x_i-\\mu)^2}{n-1}$$\n",
    "\n",
    "\n",
    "\n",
    "\n",
    "### - Desviación Estándar \n",
    "\n",
    "La desviación estándar la raiz cuadrada de la varianza y mide cuánto se dispersan los datos.\n",
    "\n",
    "*𝐷𝑒𝑠𝑣𝑖𝑎𝑐𝑖ó𝑛 𝐸𝑠𝑡á𝑛𝑑𝑎𝑟 𝑃𝑜𝑏𝑙𝑎𝑐𝑖𝑜𝑛𝑎𝑙* $= \\sigma = \\sqrt{\\sigma^2}$\n",
    "\n",
    "*𝐷𝑒𝑠𝑣𝑖𝑎𝑐𝑖ó𝑛 𝐸𝑠𝑡á𝑛𝑑𝑎𝑟 𝑚𝑢𝑒𝑠𝑡𝑟𝑎𝑙* $= 𝑠 = \\sqrt{s^2}$\n"
   ]
  },
  {
   "cell_type": "markdown",
   "metadata": {
    "collapsed": true
   },
   "source": []
  },
  {
   "cell_type": "code",
   "execution_count": 1,
   "metadata": {},
   "outputs": [],
   "source": [
    "data.frame(c(1,2,3,4,5),c(\"Hombre\",\"Mujer\",\"Mujer\",\"Hombre\",\"Hombre\"),c(35,21,42,25,28),c(\"moderado\",\"niguno\",\"lev\"\"moderado\",\"moderado\"))"
   ]
  },
  {
   "cell_type": "code",
   "execution_count": 2,
   "metadata": {},
   "outputs": [
    {
     "data": {
      "text/html": [
       "<ol class=list-inline>\n",
       "\t<li>'Moderado'</li>\n",
       "\t<li>'Ninguno'</li>\n",
       "\t<li>'Leve'</li>\n",
       "\t<li>'Leve'</li>\n",
       "\t<li>'Moderado'</li>\n",
       "\t<li>'Severo'</li>\n",
       "</ol>\n"
      ],
      "text/latex": [
       "\\begin{enumerate*}\n",
       "\\item 'Moderado'\n",
       "\\item 'Ninguno'\n",
       "\\item 'Leve'\n",
       "\\item 'Leve'\n",
       "\\item 'Moderado'\n",
       "\\item 'Severo'\n",
       "\\end{enumerate*}\n"
      ],
      "text/markdown": [
       "1. 'Moderado'\n",
       "2. 'Ninguno'\n",
       "3. 'Leve'\n",
       "4. 'Leve'\n",
       "5. 'Moderado'\n",
       "6. 'Severo'\n",
       "\n",
       "\n"
      ],
      "text/plain": [
       "[1] \"Moderado\" \"Ninguno\"  \"Leve\"     \"Leve\"     \"Moderado\" \"Severo\"  "
      ]
     },
     "metadata": {},
     "output_type": "display_data"
    }
   ],
   "source": [
    "Nivel"
   ]
  },
  {
   "cell_type": "code",
   "execution_count": 3,
   "metadata": {},
   "outputs": [
    {
     "data": {
      "text/html": [
       "'character'"
      ],
      "text/latex": [
       "'character'"
      ],
      "text/markdown": [
       "'character'"
      ],
      "text/plain": [
       "[1] \"character\""
      ]
     },
     "metadata": {},
     "output_type": "display_data"
    }
   ],
   "source": [
    "class(Nivel)"
   ]
  },
  {
   "cell_type": "code",
   "execution_count": 4,
   "metadata": {},
   "outputs": [
    {
     "ename": "ERROR",
     "evalue": "Error in hist.default(Nivel): 'x' must be numeric\n",
     "output_type": "error",
     "traceback": [
      "Error in hist.default(Nivel): 'x' must be numeric\nTraceback:\n",
      "1. hist(Nivel)",
      "2. hist.default(Nivel)",
      "3. stop(\"'x' must be numeric\")"
     ]
    }
   ],
   "source": [
    "hist(Nivel)"
   ]
  },
  {
   "cell_type": "code",
   "execution_count": 8,
   "metadata": {},
   "outputs": [
    {
     "ename": "ERROR",
     "evalue": "Error in mean(frecuencia): object 'frecuencia' not found\n",
     "output_type": "error",
     "traceback": [
      "Error in mean(frecuencia): object 'frecuencia' not found\nTraceback:\n",
      "1. geom_abline(slope = 0, intercept = mean(frecuencia), col = \"red\", \n .     lty = 2)",
      "2. data.frame(intercept = intercept, slope = slope)",
      "3. mean(frecuencia)"
     ]
    }
   ],
   "source": [
    "animals <- c(\"cat\", \"dog\",  \"dog\", \"dog\", \"dog\", \"dog\", \"dog\", \"dog\", \"cat\", \"cat\", \"bird\")\n",
    "\n",
    "library(ggplot2)\n",
    "# counts\n",
    "ggplot(data.frame(Nivel), aes(x=Nivel)) +\n",
    "  geom_bar(stat=\"identity\")+theme_minimal()+\n",
    " geom_abline(slope=0, intercept=mean(frecuencia),  col = \"red\",lty=2) \n",
    "p"
   ]
  },
  {
   "cell_type": "code",
   "execution_count": 7,
   "metadata": {},
   "outputs": [
    {
     "name": "stderr",
     "output_type": "stream",
     "text": [
      "The following objects are masked _by_ .GlobalEnv:\n",
      "\n",
      "    frecuencia, Nivel\n",
      "\n"
     ]
    },
    {
     "data": {},
     "metadata": {},
     "output_type": "display_data"
    },
    {
     "data": {
      "image/png": "[encoded data removed]",
      "text/plain": [
       "plot without title"
      ]
     },
     "metadata": {},
     "output_type": "display_data"
    }
   ],
   "source": [
    "library(ggplot2)\n",
    "attach(df)\n",
    "# Basic barplot\n",
    "p<-ggplot(data=df, aes(x=Nivel, y=frecuencia, fill=Nivel)) +\n",
    "  geom_bar(stat=\"identity\")+theme_minimal()+\n",
    " geom_abline(slope=0, intercept=mean(frecuencia),  col = \"red\",lty=2) \n",
    "p"
   ]
  },
  {
   "cell_type": "markdown",
   "metadata": {},
   "source": [
    "Observa que como la variable \"Nivel\" se definió como \"Character\" el software ordena las variables de acuerdo al orden alfabético.\n",
    "Podemos definir \"Nivel\" como variable nominal ejecutando el siguiente comando"
   ]
  },
  {
   "cell_type": "code",
   "execution_count": 10,
   "metadata": {},
   "outputs": [
    {
     "data": {
      "text/html": [
       "<dl class=dl-horizontal>\n",
       "\t<dt>Leve</dt>\n",
       "\t\t<dd>1</dd>\n",
       "\t<dt>Moderado</dt>\n",
       "\t\t<dd>1</dd>\n",
       "\t<dt>Ninguno</dt>\n",
       "\t\t<dd>1</dd>\n",
       "\t<dt>Severo</dt>\n",
       "\t\t<dd>1</dd>\n",
       "</dl>\n"
      ],
      "text/latex": [
       "\\begin{description*}\n",
       "\\item[Leve] 1\n",
       "\\item[Moderado] 1\n",
       "\\item[Ninguno] 1\n",
       "\\item[Severo] 1\n",
       "\\end{description*}\n"
      ],
      "text/markdown": [
       "Leve\n",
       ":   1Moderado\n",
       ":   1Ninguno\n",
       ":   1Severo\n",
       ":   1\n",
       "\n"
      ],
      "text/plain": [
       "    Leve Moderado  Ninguno   Severo \n",
       "       1        1        1        1 "
      ]
     },
     "metadata": {},
     "output_type": "display_data"
    }
   ],
   "source": [
    "Nivel <- factor(Nivel)\n",
    "summary(Nivel)"
   ]
  },
  {
   "cell_type": "code",
   "execution_count": 11,
   "metadata": {},
   "outputs": [
    {
     "data": {
      "text/html": [
       "<dl class=dl-horizontal>\n",
       "\t<dt>female</dt>\n",
       "\t\t<dd>30</dd>\n",
       "\t<dt>male</dt>\n",
       "\t\t<dd>20</dd>\n",
       "</dl>\n"
      ],
      "text/latex": [
       "\\begin{description*}\n",
       "\\item[female] 30\n",
       "\\item[male] 20\n",
       "\\end{description*}\n"
      ],
      "text/markdown": [
       "female\n",
       ":   30male\n",
       ":   20\n",
       "\n"
      ],
      "text/plain": [
       "female   male \n",
       "    30     20 "
      ]
     },
     "metadata": {},
     "output_type": "display_data"
    }
   ],
   "source": [
    "# variable gender with 20 \"male\" entries and \n",
    "# 30 \"female\" entries \n",
    "gender <- c(rep(\"male\",20), rep(\"female\", 30)) \n",
    "gender <- factor(gender) \n",
    "# stores gender as 20 1s and 30 2s and associates\n",
    "# 1=female, 2=male internally (alphabetically)\n",
    "# R now treats gender as a nominal variable \n",
    "summary(gender)"
   ]
  },
  {
   "cell_type": "code",
   "execution_count": 12,
   "metadata": {},
   "outputs": [
    {
     "data": {
      "text/html": [
       "'factor'"
      ],
      "text/latex": [
       "'factor'"
      ],
      "text/markdown": [
       "'factor'"
      ],
      "text/plain": [
       "[1] \"factor\""
      ]
     },
     "metadata": {},
     "output_type": "display_data"
    }
   ],
   "source": [
    "class(gender)"
   ]
  },
  {
   "cell_type": "code",
   "execution_count": null,
   "metadata": {},
   "outputs": [],
   "source": []
  }
 ],
 "metadata": {
  "kernelspec": {
   "display_name": "R",
   "language": "R",
   "name": "ir"
  },
  "language_info": {
   "codemirror_mode": "r",
   "file_extension": ".r",
   "mimetype": "text/x-r-source",
   "name": "R",
   "pygments_lexer": "r",
   "version": "3.5.1"
  }
 },
 "nbformat": 4,
 "nbformat_minor": 2
}
